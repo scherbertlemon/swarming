{
 "cells": [
  {
   "cell_type": "code",
   "execution_count": null,
   "id": "5576d357",
   "metadata": {},
   "outputs": [],
   "source": [
    "%load_ext autoreload\n",
    "%autoreload 2"
   ]
  },
  {
   "cell_type": "markdown",
   "id": "e3ab6a19",
   "metadata": {},
   "source": [
    "Some imports:"
   ]
  },
  {
   "cell_type": "code",
   "execution_count": null,
   "id": "35e0cf98",
   "metadata": {},
   "outputs": [],
   "source": [
    "import numpy as np\n",
    "import scipy as sc\n",
    "from numpy.random import rand\n",
    "from time import time\n",
    "import swarming\n",
    "\n",
    "from bokeh.plotting import figure, ColumnDataSource\n",
    "from bokeh.io import show, output_notebook, push_notebook\n",
    "from bokeh.layouts import row\n",
    "output_notebook()"
   ]
  },
  {
   "cell_type": "markdown",
   "id": "4289e03c",
   "metadata": {},
   "source": [
    "Main model object:"
   ]
  },
  {
   "cell_type": "code",
   "execution_count": null,
   "id": "d0c6e1dd",
   "metadata": {},
   "outputs": [],
   "source": [
    "swarm = swarming.InitialCondition(\n",
    "    condition=\"randomspeed\",\n",
    "    n_particles=500,\n",
    "    x_range=(-30, 30),\n",
    "    y_range=(-30, 30),\n",
    "    rhs=swarming.rep_attr_rhs\n",
    ")"
   ]
  },
  {
   "cell_type": "markdown",
   "id": "7cbf83df",
   "metadata": {},
   "source": [
    "Scale the length of velocity-arrows:"
   ]
  },
  {
   "cell_type": "code",
   "execution_count": null,
   "id": "d6f8666c",
   "metadata": {},
   "outputs": [],
   "source": [
    "swarm.VSCALE=2"
   ]
  },
  {
   "cell_type": "markdown",
   "id": "865932c9",
   "metadata": {},
   "source": [
    "Some initial conditions:"
   ]
  },
  {
   "cell_type": "code",
   "execution_count": null,
   "id": "78bebb9e",
   "metadata": {},
   "outputs": [],
   "source": [
    "show(swarm.plot_initial(ncols=4))"
   ]
  },
  {
   "cell_type": "markdown",
   "id": "a414fa68",
   "metadata": {},
   "source": [
    "Show current state of model:"
   ]
  },
  {
   "cell_type": "code",
   "execution_count": null,
   "id": "1b212ee7",
   "metadata": {},
   "outputs": [],
   "source": [
    "nh = show(\n",
    "    row(swarm.plot(plot_mean=False), swarm.plot_density(size=5)),\n",
    "    notebook_handle=True\n",
    ")"
   ]
  },
  {
   "cell_type": "markdown",
   "id": "0754ac95",
   "metadata": {},
   "source": [
    "Evolve a few steps:"
   ]
  },
  {
   "cell_type": "code",
   "execution_count": null,
   "id": "5f652173",
   "metadata": {},
   "outputs": [],
   "source": [
    "swarm.cds.data = swarm.evolve(0.1, 10, snapshot=False).cds_dict()\n",
    "push_notebook(handle=nh)\n",
    "swarm.time"
   ]
  },
  {
   "cell_type": "markdown",
   "id": "cee94a21",
   "metadata": {},
   "source": [
    "Change some parameters:"
   ]
  },
  {
   "cell_type": "code",
   "execution_count": null,
   "id": "f21b9ea7",
   "metadata": {},
   "outputs": [],
   "source": [
    "params = {\"lr\": .2, \"la\": 100, \"Ca\": 20, \"Cr\":23}\n",
    "# params = {\"const\": 0.01, \"damping\":0.5}\n",
    "swarm.cds.data = swarm.evolve(0.1, 100, snapshot=False, **params).cds_dict()\n",
    "push_notebook(handle=nh)\n",
    "swarm.time"
   ]
  },
  {
   "cell_type": "markdown",
   "id": "c2554388",
   "metadata": {},
   "source": [
    "Record for a given time, snapshotting every ``n_steps`` until ``max_time`` is reached making ``time_step``s:"
   ]
  },
  {
   "cell_type": "code",
   "execution_count": null,
   "id": "6a5b7264",
   "metadata": {},
   "outputs": [],
   "source": [
    "swarm.record_for_time(100.0, 0.25, 4)"
   ]
  },
  {
   "cell_type": "markdown",
   "id": "342924cc",
   "metadata": {},
   "source": [
    "record for 200 history points:"
   ]
  },
  {
   "cell_type": "code",
   "execution_count": null,
   "id": "f5b054b6",
   "metadata": {},
   "outputs": [],
   "source": [
    "swarm.record_until(100, 0.25, 4)"
   ]
  },
  {
   "cell_type": "markdown",
   "id": "bd6b4a62",
   "metadata": {},
   "source": [
    "Final state density plot:"
   ]
  },
  {
   "cell_type": "code",
   "execution_count": null,
   "id": "1a3ae1f3",
   "metadata": {},
   "outputs": [],
   "source": [
    "show(swarm.plot_density(size=4))"
   ]
  },
  {
   "cell_type": "markdown",
   "id": "cc7b6776",
   "metadata": {},
   "source": [
    "all recorded states:"
   ]
  },
  {
   "cell_type": "code",
   "execution_count": null,
   "id": "a895229f",
   "metadata": {},
   "outputs": [],
   "source": [
    "swarm.history"
   ]
  },
  {
   "cell_type": "code",
   "execution_count": null,
   "id": "31dc8ed0",
   "metadata": {},
   "outputs": [],
   "source": []
  },
  {
   "cell_type": "markdown",
   "id": "6cd615e7",
   "metadata": {},
   "source": [
    "Showing final state, trajectory of center of gravity, development of changerates:"
   ]
  },
  {
   "cell_type": "code",
   "execution_count": null,
   "id": "9292d50e",
   "metadata": {},
   "outputs": [],
   "source": [
    "dimensions = {\"plot_width\": 300, \"plot_height\": 300}\n",
    "\n",
    "chgx, chgv, tim = swarm.calc_chg_from_history()\n",
    "\n",
    "f1 = figure(title=\"Changing mean x over time\", **dimensions)\n",
    "f1.line(x=tim, y=chgx)\n",
    "f2 = figure(title=\"Changing mean v over time\", **dimensions)\n",
    "f2.line(x=tim, y=chgv)\n",
    "\n",
    "show(row(\n",
    "    swarm.plot(plot_mean=True),\n",
    "    swarm.plot_trajectory(),\n",
    "    f1,\n",
    "    f2\n",
    "))"
   ]
  },
  {
   "cell_type": "markdown",
   "id": "4f2de980",
   "metadata": {},
   "source": [
    "Reset state:"
   ]
  },
  {
   "cell_type": "code",
   "execution_count": null,
   "id": "f92042d2",
   "metadata": {},
   "outputs": [],
   "source": [
    "swarm.set_initial(\"square\")"
   ]
  }
 ],
 "metadata": {
  "kernelspec": {
   "display_name": "Python 3",
   "language": "python",
   "name": "python3"
  },
  "language_info": {
   "codemirror_mode": {
    "name": "ipython",
    "version": 3
   },
   "file_extension": ".py",
   "mimetype": "text/x-python",
   "name": "python",
   "nbconvert_exporter": "python",
   "pygments_lexer": "ipython3",
   "version": "3.8.11"
  }
 },
 "nbformat": 4,
 "nbformat_minor": 5
}
