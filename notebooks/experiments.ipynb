{
 "cells": [
  {
   "cell_type": "code",
   "execution_count": null,
   "id": "5576d357",
   "metadata": {},
   "outputs": [],
   "source": [
    "%load_ext autoreload\n",
    "%autoreload 2"
   ]
  },
  {
   "cell_type": "markdown",
   "id": "e3ab6a19",
   "metadata": {},
   "source": [
    "Some imports:"
   ]
  },
  {
   "cell_type": "code",
   "execution_count": null,
   "id": "35e0cf98",
   "metadata": {},
   "outputs": [],
   "source": [
    "import numpy as np\n",
    "import scipy as sc\n",
    "from numpy.random import rand\n",
    "from time import time\n",
    "import swarming\n",
    "\n",
    "from bokeh.plotting import figure, ColumnDataSource\n",
    "from bokeh.io import show, output_notebook, push_notebook\n",
    "from bokeh.layouts import row\n",
    "output_notebook()"
   ]
  },
  {
   "cell_type": "markdown",
   "id": "4289e03c",
   "metadata": {},
   "source": [
    "Main model object:"
   ]
  },
  {
   "cell_type": "code",
   "execution_count": null,
   "id": "d0c6e1dd",
   "metadata": {},
   "outputs": [],
   "source": [
    "swarm = swarming.InitialCondition(condition=\"circular\", n_particles=100, x_range=(-60, 60), y_range=(-20, 20))\n",
    "swarm.time"
   ]
  },
  {
   "cell_type": "markdown",
   "id": "7cbf83df",
   "metadata": {},
   "source": [
    "Scale the length of velocity-arrows:"
   ]
  },
  {
   "cell_type": "code",
   "execution_count": null,
   "id": "d6f8666c",
   "metadata": {},
   "outputs": [],
   "source": [
    "swarm.VSCALE=2"
   ]
  },
  {
   "cell_type": "markdown",
   "id": "865932c9",
   "metadata": {},
   "source": [
    "Some initial conditions:"
   ]
  },
  {
   "cell_type": "code",
   "execution_count": null,
   "id": "78bebb9e",
   "metadata": {},
   "outputs": [],
   "source": [
    "show(swarm.plot_initial(ncols=4))"
   ]
  },
  {
   "cell_type": "markdown",
   "id": "a414fa68",
   "metadata": {},
   "source": [
    "Show current state of model:"
   ]
  },
  {
   "cell_type": "code",
   "execution_count": null,
   "id": "1b212ee7",
   "metadata": {},
   "outputs": [],
   "source": [
    "nh = show(swarm.plot(plot_mean=False), notebook_handle=True)"
   ]
  },
  {
   "cell_type": "markdown",
   "id": "0754ac95",
   "metadata": {},
   "source": [
    "Evolve a few steps:"
   ]
  },
  {
   "cell_type": "code",
   "execution_count": null,
   "id": "5f652173",
   "metadata": {},
   "outputs": [],
   "source": [
    "swarm.cds.data = swarm.evolve(0.1, 10, snapshot=True).cds_dict()\n",
    "push_notebook(handle=nh)\n",
    "swarm.time"
   ]
  },
  {
   "cell_type": "code",
   "execution_count": null,
   "id": "36cf4b14",
   "metadata": {},
   "outputs": [],
   "source": [
    "swarm.history"
   ]
  },
  {
   "cell_type": "markdown",
   "id": "cee94a21",
   "metadata": {},
   "source": [
    "Change some parameters:"
   ]
  },
  {
   "cell_type": "code",
   "execution_count": null,
   "id": "f21b9ea7",
   "metadata": {},
   "outputs": [],
   "source": [
    "params = {\"lr\": 4, \"la\": 100, \"Ca\": 20}\n",
    "swarm.cds.data = swarm.evolve(0.1, 100, snapshot=True, **params).cds_dict()\n",
    "push_notebook(handle=nh)\n",
    "swarm.time"
   ]
  },
  {
   "cell_type": "markdown",
   "id": "c2554388",
   "metadata": {},
   "source": [
    "Record for a given time, snapshotting every ``n_steps`` until ``max_time`` is reached making ``time_step``s:"
   ]
  },
  {
   "cell_type": "code",
   "execution_count": null,
   "id": "6a5b7264",
   "metadata": {},
   "outputs": [],
   "source": [
    "swarm.record_for_time(20.0, 0.1, 10)"
   ]
  },
  {
   "cell_type": "markdown",
   "id": "342924cc",
   "metadata": {},
   "source": [
    "record with stopping criterion:"
   ]
  },
  {
   "cell_type": "code",
   "execution_count": null,
   "id": "f5b054b6",
   "metadata": {},
   "outputs": [],
   "source": [
    "swarm.record_until(2000, 0.1, 10)"
   ]
  },
  {
   "cell_type": "code",
   "execution_count": null,
   "id": "a895229f",
   "metadata": {},
   "outputs": [],
   "source": [
    "swarm.history"
   ]
  },
  {
   "cell_type": "code",
   "execution_count": null,
   "id": "551e88ae",
   "metadata": {},
   "outputs": [],
   "source": [
    "push_notebook(handle=nh)"
   ]
  },
  {
   "cell_type": "markdown",
   "id": "4f2de980",
   "metadata": {},
   "source": [
    "Reset state:"
   ]
  },
  {
   "cell_type": "code",
   "execution_count": null,
   "id": "f92042d2",
   "metadata": {},
   "outputs": [],
   "source": [
    "swarm.set_initial(\"square\")"
   ]
  },
  {
   "cell_type": "code",
   "execution_count": null,
   "id": "62c28601",
   "metadata": {},
   "outputs": [],
   "source": [
    "show(swarm.plot_trajectory())"
   ]
  },
  {
   "cell_type": "code",
   "execution_count": null,
   "id": "4947be58",
   "metadata": {},
   "outputs": [],
   "source": [
    "chgx, chgv, tim = swarm.calc_chg_from_history()"
   ]
  },
  {
   "cell_type": "code",
   "execution_count": null,
   "id": "f85e88bf",
   "metadata": {},
   "outputs": [],
   "source": [
    "f1 = figure(title=\"Changing mean x\")\n",
    "f1.line(x=tim, y=chgx)\n",
    "f2 = figure(title=\"Changing mean v\")\n",
    "f2.line(x=tim, y=chgv)\n",
    "show(row(f1, f2))"
   ]
  },
  {
   "cell_type": "code",
   "execution_count": null,
   "id": "9c59150f",
   "metadata": {},
   "outputs": [],
   "source": []
  }
 ],
 "metadata": {
  "kernelspec": {
   "display_name": "Python 3",
   "language": "python",
   "name": "python3"
  },
  "language_info": {
   "codemirror_mode": {
    "name": "ipython",
    "version": 3
   },
   "file_extension": ".py",
   "mimetype": "text/x-python",
   "name": "python",
   "nbconvert_exporter": "python",
   "pygments_lexer": "ipython3",
   "version": "3.8.11"
  }
 },
 "nbformat": 4,
 "nbformat_minor": 5
}
