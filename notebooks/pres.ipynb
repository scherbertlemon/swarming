{
 "cells": [
  {
   "cell_type": "code",
   "execution_count": null,
   "id": "5d53ac82",
   "metadata": {
    "slideshow": {
     "slide_type": "skip"
    }
   },
   "outputs": [],
   "source": [
    "%load_ext autoreload\n",
    "%autoreload 2"
   ]
  },
  {
   "cell_type": "code",
   "execution_count": null,
   "id": "6c85e9bd",
   "metadata": {},
   "outputs": [],
   "source": [
    "import pandas as pd\n",
    "from swarming import InitialCondition"
   ]
  },
  {
   "cell_type": "markdown",
   "id": "f1a98c82",
   "metadata": {
    "slideshow": {
     "slide_type": "slide"
    }
   },
   "source": [
    "# Swarms"
   ]
  },
  {
   "cell_type": "code",
   "execution_count": null,
   "id": "1c6bd9a5",
   "metadata": {},
   "outputs": [],
   "source": [
    "from dask.distributed import LocalCluster, Client\n",
    "cluster = LocalCluster(n_workers=6)\n",
    "client = Client(cluster)\n",
    "cluster"
   ]
  },
  {
   "cell_type": "code",
   "execution_count": null,
   "id": "2612fb92",
   "metadata": {},
   "outputs": [],
   "source": [
    "def simulate(row):\n",
    "    swarm = InitialCondition(condition=\"randomspeed\", n_particles=200)\n",
    "    swarm.record_for_time(1000, 0.1, 10, **row)\n",
    "    return swarm.history"
   ]
  },
  {
   "cell_type": "code",
   "execution_count": null,
   "id": "0855eccd",
   "metadata": {},
   "outputs": [],
   "source": [
    "params = pd.DataFrame([\n",
    "    (50,20,2,100),\n",
    "    (40,20,5,100),\n",
    "    (50,20,2,20),\n",
    "    (50,20,3,20),\n",
    "    (50,20,10,50),\n",
    "    (50,20,2,200)\n",
    "], columns=[\"Cr\", \"Ca\", \"lr\", \"la\"])\n",
    "pp = params.to_dict(orient=\"records\")"
   ]
  },
  {
   "cell_type": "code",
   "execution_count": null,
   "id": "92c23000",
   "metadata": {},
   "outputs": [],
   "source": [
    "import dask.bag as bg\n",
    "dag = bg.from_sequence(pp).map(simulate)\n",
    "dag.compute()"
   ]
  },
  {
   "cell_type": "code",
   "execution_count": null,
   "id": "302bbdfe",
   "metadata": {},
   "outputs": [],
   "source": []
  }
 ],
 "metadata": {
  "celltoolbar": "Slideshow",
  "kernelspec": {
   "display_name": "Python 3",
   "language": "python",
   "name": "python3"
  },
  "language_info": {
   "codemirror_mode": {
    "name": "ipython",
    "version": 3
   },
   "file_extension": ".py",
   "mimetype": "text/x-python",
   "name": "python",
   "nbconvert_exporter": "python",
   "pygments_lexer": "ipython3",
   "version": "3.8.11"
  }
 },
 "nbformat": 4,
 "nbformat_minor": 5
}
