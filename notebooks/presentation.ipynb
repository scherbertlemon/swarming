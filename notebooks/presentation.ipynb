{
 "cells": [
  {
   "cell_type": "code",
   "execution_count": null,
   "id": "89a97a27",
   "metadata": {
    "slideshow": {
     "slide_type": "skip"
    }
   },
   "outputs": [],
   "source": [
    "from IPython.core.display import HTML\n",
    "with open(\"style/notebook.css\", \"r\") as f:\n",
    "    s = f\"<style>{f.read()}</style>\"\n",
    "HTML(s)"
   ]
  },
  {
   "cell_type": "code",
   "execution_count": null,
   "id": "ae584d50",
   "metadata": {
    "slideshow": {
     "slide_type": "skip"
    }
   },
   "outputs": [],
   "source": [
    "from bokeh.plotting import figure, ColumnDataSource\n",
    "from bokeh.io import show, output_notebook, push_notebook\n",
    "from bokeh.layouts import row\n",
    "import subprocess\n",
    "import swarming\n",
    "import numpy as np\n",
    "import pandas as pd\n",
    "\n",
    "from dask.distributed import Client, LocalCluster, progress\n",
    "import dask.bag\n",
    "import dask.dataframe\n",
    "\n",
    "output_notebook()"
   ]
  },
  {
   "cell_type": "markdown",
   "id": "f1a98c82",
   "metadata": {
    "slideshow": {
     "slide_type": "slide"
    }
   },
   "source": [
    "<div class=\"title\">\n",
    "\n",
    "<h1 class=\"title\">Predicting the behavior of swarms</h1>\n",
    " \n",
    "Modelling interacting particles\n",
    "    \n",
    "*by Andreas Roth*\n",
    "\n",
    "**2021-08-23**\n",
    "</div>"
   ]
  },
  {
   "cell_type": "markdown",
   "id": "40a80c99",
   "metadata": {
    "slideshow": {
     "slide_type": "slide"
    }
   },
   "source": [
    "<div class=\"sect\">\n",
    "    \n",
    "## The model\n",
    "    \n",
    "* How do swarms of birds or fish align themselves?\n",
    "* Who decides about collective movement?\n",
    "    \n",
    "J. Carrillo, A. Klar, S. Martin, and S. Tiwari, [Self-propelled interacting particle systems with\n",
    "roosting force](https://www.worldscientific.com/doi/abs/10.1142/S0218202510004684). *Mathematical Models and Methods in Applied Sciences, 20(supp01), 2010*\n",
    "\n",
    "Carrillo, J.A.; Klar, A.; Roth, A., [Single to double mill small noise transition via semi-lagrangian finite volume methods](https://www.intlpress.com/site/pub/pages/journals/items/cms/content/vols/0014/0004/a012/), *Communications in mathematical sciences 14 (2016), No.4, pp.1111-1136, ISSN: 1539-6746*\n",
    "\n",
    "</div>"
   ]
  },
  {
   "cell_type": "markdown",
   "id": "dbf93e55",
   "metadata": {
    "slideshow": {
     "slide_type": "subslide"
    }
   },
   "source": [
    "## Basic ideas\n",
    "\n",
    "<div class=\"row\">\n",
    "<div class=\"column\">\n",
    "<img src=\"img/velocity.png\">  \n",
    "</div>\n",
    "<div class=\"column\">\n",
    "\n",
    "We look at the behavior of $n$ point masses\n",
    "* position $x_i$ and velocity $v_i$, where $i = 1,...,n$\n",
    "\n",
    "</div>\n",
    "</div>"
   ]
  },
  {
   "cell_type": "markdown",
   "id": "2467f1ec",
   "metadata": {
    "slideshow": {
     "slide_type": "subslide"
    }
   },
   "source": [
    "## Basic ideas\n",
    "\n",
    "<div class=\"row\">\n",
    "<div class=\"column\">\n",
    "<img src=\"img/repulsion.png\">  \n",
    "</div>\n",
    "<div class=\"column\">\n",
    "\n",
    "We look at the behavior of $n$ particles\n",
    "* position $x_i$ and velocity $v_i$, where $i = 1,...,n$\n",
    "* interaction force between pairs of particles depends on distance\n",
    "    * if to close: **repulsion**\n",
    "    \n",
    "</div>\n",
    "</div>"
   ]
  },
  {
   "cell_type": "markdown",
   "id": "f85711f7",
   "metadata": {
    "slideshow": {
     "slide_type": "subslide"
    }
   },
   "source": [
    "## Basic ideas\n",
    "\n",
    "<div class=\"row\">\n",
    "<div class=\"column\">\n",
    "<img src=\"img/attraction.png\">  \n",
    "</div>\n",
    "<div class=\"column\">\n",
    "\n",
    "We look at the behavior of $n$ particles\n",
    "* position $x_i$ and velocity $v_i$, where $i = 1,...,n$\n",
    "* interaction force between pairs of particles depends on distance\n",
    "    * if to close: **repulsion**\n",
    "    * if to far: **attraction**\n",
    "* forces balance each other\n",
    "* pairwise interactions on one particle **superpose** each other\n",
    "* evolution over time follows **Newton's second law**\n",
    "</div>\n",
    "</div>"
   ]
  },
  {
   "cell_type": "markdown",
   "id": "8c4d8475",
   "metadata": {
    "slideshow": {
     "slide_type": "subslide"
    }
   },
   "source": [
    "## Model equations\n",
    "\n",
    "System of ordinary differential equations:\n",
    "$$\n",
    "\\begin{align}\n",
    "dx_i =& v_i \\cdot dt\\\\\n",
    "dv_i =& v_i(\\alpha-\\beta|v_i|) \\\\\n",
    "&- \\frac{1}{n}\\sum_{i\\neq j}F(|r_{ij}|) \\frac{r_{ij}}{|r_{ij}|}\n",
    "\\end{align}\n",
    "$$\n",
    "\n",
    "* $2n$ equations\n",
    "* $r_{ij} = x_i-x_j$ connection vector between particles $i$ and $j$\n",
    "* Computation effort goes with $n^2$ due to summing pairwise forces!"
   ]
  },
  {
   "cell_type": "markdown",
   "id": "919cd0a0",
   "metadata": {
    "slideshow": {
     "slide_type": "subslide"
    }
   },
   "source": [
    "### Force term\n",
    "\n",
    "One possibility to achieve what we want is\n",
    "\n",
    "$$\n",
    "F(r) = \\frac{C_a}{l_a}\\cdot \\exp(-\\frac{r}{l_a})-\\frac{C_r}{l_r}\\cdot \\exp(-\\frac{r}{l_r})\n",
    "$$"
   ]
  },
  {
   "cell_type": "code",
   "execution_count": null,
   "id": "cf441f0b",
   "metadata": {
    "slideshow": {
     "slide_type": "-"
    }
   },
   "outputs": [],
   "source": [
    "r = np.linspace(7, 200, 200)\n",
    "f = figure(title=\"Force over distance\", plot_width=1500, plot_height=200)\n",
    "f.line(x=r, y=swarming.force_of_distance(r), line_width=3)\n",
    "show(f)"
   ]
  },
  {
   "cell_type": "markdown",
   "id": "dc165613",
   "metadata": {
    "slideshow": {
     "slide_type": "slide"
    }
   },
   "source": [
    "<div class=\"sect\">\n",
    "  \n",
    "## How to compute\n",
    "    \n",
    "* all code is published under MIT License at https://github.com/scherbertlemon/swarming\n",
    "* we make use of the ``swarming`` python package\n",
    "* [Bokeh](https://bokeh.org) is used for all visualizations\n",
    "* [Dask](https://dask.org) is used for parallel computing\n",
    "    \n",
    "</div>"
   ]
  },
  {
   "cell_type": "markdown",
   "id": "81a5b92e",
   "metadata": {
    "slideshow": {
     "slide_type": "subslide"
    }
   },
   "source": [
    "## Generating some particles"
   ]
  },
  {
   "cell_type": "code",
   "execution_count": null,
   "id": "750e43a0",
   "metadata": {
    "scrolled": false,
    "slideshow": {
     "slide_type": "-"
    }
   },
   "outputs": [],
   "source": [
    "swarm = swarming.InitialCondition(condition=\"circular\", n_particles=300)\n",
    "show(row(swarm.plot(plot_width=600, plot_height=600), swarm.plot_density(plot_width=800, plot_height=600, size=3)))"
   ]
  },
  {
   "cell_type": "markdown",
   "id": "0005bba0",
   "metadata": {
    "slideshow": {
     "slide_type": "subslide"
    }
   },
   "source": [
    "## Letting the particles move"
   ]
  },
  {
   "cell_type": "code",
   "execution_count": null,
   "id": "cf0efc55",
   "metadata": {
    "slideshow": {
     "slide_type": "-"
    }
   },
   "outputs": [],
   "source": [
    "nh = show(swarm.plot(plot_width=600, plot_height=600), notebook_handle=True)"
   ]
  },
  {
   "cell_type": "code",
   "execution_count": null,
   "id": "6a20cf55",
   "metadata": {
    "slideshow": {
     "slide_type": "-"
    }
   },
   "outputs": [],
   "source": [
    "swarm.evolve(0.1, 10).update_cds()\n",
    "push_notebook(handle=nh)"
   ]
  },
  {
   "cell_type": "markdown",
   "id": "e7fc506f",
   "metadata": {
    "slideshow": {
     "slide_type": "subslide"
    }
   },
   "source": [
    "### More interactive"
   ]
  },
  {
   "cell_type": "code",
   "execution_count": null,
   "id": "ae9b7285",
   "metadata": {
    "slideshow": {
     "slide_type": "-"
    }
   },
   "outputs": [],
   "source": [
    "proc = subprocess.Popen([\"bokeh\", \"serve\", \"--port\", \"5006\", \"../bokeh_app/swarm.py\"], stdout=subprocess.PIPE, stderr=subprocess.PIPE)"
   ]
  },
  {
   "cell_type": "markdown",
   "id": "0e70de0c",
   "metadata": {
    "slideshow": {
     "slide_type": "-"
    }
   },
   "source": [
    "More interactively with [Bokeh app](http://localhost:5006)!\n",
    "* Javascript frontend connected to a python backend\n",
    "* Python runs the model\n",
    "* Sliders change parameters while model is running"
   ]
  },
  {
   "cell_type": "code",
   "execution_count": null,
   "id": "fa74fc63",
   "metadata": {
    "scrolled": true,
    "slideshow": {
     "slide_type": "-"
    }
   },
   "outputs": [],
   "source": [
    "import psutil\n",
    "parentproc = psutil.Process(proc.pid)\n",
    "for subproc in parentproc.children(recursive=True):\n",
    "    subproc.kill()\n",
    "parentproc.kill()"
   ]
  },
  {
   "cell_type": "markdown",
   "id": "9c3e64e7",
   "metadata": {
    "slideshow": {
     "slide_type": "subslide"
    }
   },
   "source": [
    "## Without interaction\n",
    "\n",
    "Apparently, there is only a finite set of \"equilibria\" for this system, depending on the initial condition.\n",
    "\n",
    "### All velocities aligned"
   ]
  },
  {
   "cell_type": "code",
   "execution_count": null,
   "id": "e6841593",
   "metadata": {
    "slideshow": {
     "slide_type": "-"
    }
   },
   "outputs": [],
   "source": [
    "swarm.n = 400\n",
    "show(row(swarm.set_initial(\"square\").plot_density(size=5),\n",
    "        swarm.set_initial(\"square\").record_for_time(120, 0.5, 2, lr=1).plot_density(size=3)))"
   ]
  },
  {
   "cell_type": "markdown",
   "id": "d5dbbf1f",
   "metadata": {
    "slideshow": {
     "slide_type": "subslide"
    }
   },
   "source": [
    "## Without interaction\n",
    "\n",
    "Apparently, there is only a finite set of \"equilibria\" for this system, depending on the initial condition.\n",
    "\n",
    "### Random velocities"
   ]
  },
  {
   "cell_type": "code",
   "execution_count": null,
   "id": "e830aab3",
   "metadata": {
    "slideshow": {
     "slide_type": "-"
    }
   },
   "outputs": [],
   "source": [
    "show(row(swarm.set_initial(\"randomspeed\").plot_density(size=5),\n",
    "        swarm.set_initial(\"randomspeed\").record_for_time(120, 0.5, 2, lr=1).plot_density(size=2)))"
   ]
  },
  {
   "cell_type": "markdown",
   "id": "88f5cf41",
   "metadata": {
    "slideshow": {
     "slide_type": "slide"
    }
   },
   "source": [
    "<div class=\"sect\">\n",
    "    \n",
    "## Parameter study\n",
    "    \n",
    "* To check if the \"donut\" equilibrium always occurs for a given initial condition (random velocity), we run a parameter study\n",
    "* We need to sample model parameters randomly and cover the complete parameter space: **Latin Hypercube Sampling**\n",
    "* We use Dask to run the models for each parameter sample in parallel\n",
    "    \n",
    "</div>"
   ]
  },
  {
   "cell_type": "markdown",
   "id": "ae80f940",
   "metadata": {
    "slideshow": {
     "slide_type": "subslide"
    }
   },
   "source": [
    "## Dask cluster and client"
   ]
  },
  {
   "cell_type": "code",
   "execution_count": null,
   "id": "03b879c0",
   "metadata": {},
   "outputs": [],
   "source": [
    "cluster = LocalCluster(n_workers=4)\n",
    "client = Client(cluster)\n",
    "cluster"
   ]
  },
  {
   "cell_type": "markdown",
   "id": "5b1e23e9",
   "metadata": {
    "slideshow": {
     "slide_type": "fragment"
    }
   },
   "source": [
    "* There are backends to run Dask cluster on all kinds of systems (IBM LSF, Hadoop, ...)\n",
    "* We run a ``LocalCluster`` on one CPU\n",
    "* Dask client connects to cluster over the network (really distributed computing!)\n",
    "* [Cluster dashboard](http://localhost:8787) shows cluster load etc."
   ]
  },
  {
   "cell_type": "markdown",
   "id": "232e3def",
   "metadata": {
    "slideshow": {
     "slide_type": "subslide"
    }
   },
   "source": [
    "### Parameter sampling\n",
    "\n",
    "Model has parameters attraction strength $C_a$, attraction range $l_a$, repulsion strength $C_r$, repulsion range $l_r$."
   ]
  },
  {
   "cell_type": "code",
   "execution_count": null,
   "id": "a7a79089",
   "metadata": {
    "slideshow": {
     "slide_type": "-"
    }
   },
   "outputs": [],
   "source": [
    "params = swarming.Parameters([(\"la\", 100, 40, 160), (\"lr\", 2, 0.5, 3.5), (\"Cr\", 30, 5, 35)])\n",
    "params"
   ]
  },
  {
   "cell_type": "code",
   "execution_count": null,
   "id": "a5bad4be",
   "metadata": {
    "slideshow": {
     "slide_type": "fragment"
    }
   },
   "outputs": [],
   "source": [
    "pd.DataFrame(params.sampling_dicts(n_samples=10))"
   ]
  },
  {
   "cell_type": "markdown",
   "id": "9609abad",
   "metadata": {
    "slideshow": {
     "slide_type": "subslide"
    }
   },
   "source": [
    "## Run and store model for every of those parameter sets\n",
    "\n",
    "We build a Dask *task graph*. No calculation happens here."
   ]
  },
  {
   "cell_type": "code",
   "execution_count": null,
   "id": "94bcb808",
   "metadata": {
    "slideshow": {
     "slide_type": "fragment"
    }
   },
   "outputs": [],
   "source": [
    "def calc(dct):\n",
    "    return (dct, swarming.InitialCondition(condition=\"randomspeed\", n_particles=400).record_for_time(100, 0.5, 2, **dct).history.to_dict(orient=\"records\"))\n",
    "def explode(params, result):\n",
    "    return [{**params, **r} for r in result]\n",
    "\n",
    "dag = dask.bag.from_sequence(params.sampling_dicts(n_samples=24)) \\\n",
    "    .map(calc) \\\n",
    "    .starmap(explode) \\\n",
    "    .flatten() \\\n",
    "    .to_dataframe() \\\n",
    "    .to_parquet(\"results.parq\", engine=\"pyarrow\", overwrite=True, compute=False)"
   ]
  },
  {
   "cell_type": "markdown",
   "id": "1087579b",
   "metadata": {
    "slideshow": {
     "slide_type": "subslide"
    }
   },
   "source": [
    "### Visualizing and computing the task graph"
   ]
  },
  {
   "cell_type": "code",
   "execution_count": null,
   "id": "b2f0adc8",
   "metadata": {
    "slideshow": {
     "slide_type": "-"
    }
   },
   "outputs": [],
   "source": [
    "dag.visualize()"
   ]
  },
  {
   "cell_type": "code",
   "execution_count": null,
   "id": "00ab1b8b",
   "metadata": {
    "slideshow": {
     "slide_type": "-"
    }
   },
   "outputs": [],
   "source": [
    "future = client.compute(dag)  # send the graph to the workers for computing\n",
    "# progress(future)  # does not display correctly in slideshow"
   ]
  },
  {
   "cell_type": "markdown",
   "id": "80d52ba5",
   "metadata": {
    "slideshow": {
     "slide_type": "subslide"
    }
   },
   "source": [
    "### Evaluate stored results\n",
    "\n",
    "We have written **all particle positions / velocities** at defined **time steps** with the **used parameter sample**:"
   ]
  },
  {
   "cell_type": "code",
   "execution_count": null,
   "id": "d95e06f2",
   "metadata": {
    "scrolled": true
   },
   "outputs": [],
   "source": [
    "data = dask.dataframe.read_parquet(\"results.parq\")\n",
    "data.head(150, npartitions=2)"
   ]
  },
  {
   "cell_type": "markdown",
   "id": "609a1d9a",
   "metadata": {
    "slideshow": {
     "slide_type": "subslide"
    }
   },
   "source": [
    "### Evaluate stored results\n",
    "\n",
    "* We want to plot the end densities, so select records with the maximum computed time\n",
    "* Note, that at no time the dataset is completely in memory!\n",
    "* When calling ``compute`` on a DAG, the result is actually transferred into local memory as ``pandas.DataFrame``"
   ]
  },
  {
   "cell_type": "code",
   "execution_count": null,
   "id": "0223b92e",
   "metadata": {
    "scrolled": true,
    "slideshow": {
     "slide_type": "-"
    }
   },
   "outputs": [],
   "source": [
    "data.groupby(params.names).agg({\"time\": \"max\"}).compute().head(3)"
   ]
  },
  {
   "cell_type": "code",
   "execution_count": null,
   "id": "152d2490",
   "metadata": {
    "slideshow": {
     "slide_type": "fragment"
    }
   },
   "outputs": [],
   "source": [
    "final_states = data.loc[abs(data[\"time\"]-100.0)<1e-12, :].compute()\n",
    "final_states.head(3)"
   ]
  },
  {
   "cell_type": "markdown",
   "id": "7df07895",
   "metadata": {
    "slideshow": {
     "slide_type": "subslide"
    }
   },
   "source": [
    "## Density plots of final states\n",
    "\n",
    "Apparently, this parameterset delivers donuts in varying shapes."
   ]
  },
  {
   "cell_type": "code",
   "execution_count": null,
   "id": "7f6fd9d8",
   "metadata": {
    "scrolled": true,
    "slideshow": {
     "slide_type": "-"
    }
   },
   "outputs": [],
   "source": [
    "show(swarming.get_density_plots(final_states, param_names=params.names, ncols=4, size=3))"
   ]
  },
  {
   "cell_type": "markdown",
   "id": "e156aabc",
   "metadata": {
    "slideshow": {
     "slide_type": "subslide"
    }
   },
   "source": [
    "### Tidy up\n",
    "\n",
    "We close the Dask cluster and client:"
   ]
  },
  {
   "cell_type": "code",
   "execution_count": null,
   "id": "787b1273",
   "metadata": {},
   "outputs": [],
   "source": [
    "client.close()\n",
    "cluster.close()"
   ]
  },
  {
   "cell_type": "markdown",
   "id": "d162340d",
   "metadata": {
    "slideshow": {
     "slide_type": "slide"
    }
   },
   "source": [
    "<div class=\"title\">\n",
    "    \n",
    "<h1 class=\"title\">Thanks for your attention</h1>\n",
    "    \n",
    "Time for your questions!\n",
    "    \n",
    "</div>    "
   ]
  }
 ],
 "metadata": {
  "celltoolbar": "Slideshow",
  "kernelspec": {
   "display_name": "Python 3",
   "language": "python",
   "name": "python3"
  },
  "language_info": {
   "codemirror_mode": {
    "name": "ipython",
    "version": 3
   },
   "file_extension": ".py",
   "mimetype": "text/x-python",
   "name": "python",
   "nbconvert_exporter": "python",
   "pygments_lexer": "ipython3",
   "version": "3.9.6"
  },
  "rise": {
   "autolaunch": false,
   "footer": "<h4><b>Andreas Roth</b> | 2021-08-23</h4><img src='style/ornament.png'>",
   "header": "<h2>Predicting the behavior of swarms</h2>"
  }
 },
 "nbformat": 4,
 "nbformat_minor": 5
}
